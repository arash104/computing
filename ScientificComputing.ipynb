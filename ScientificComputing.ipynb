{
 "metadata": {
  "name": "ScientificComputing"
 },
 "nbformat": 3,
 "nbformat_minor": 0,
 "worksheets": [
  {
   "cells": [
    {
     "cell_type": "code",
     "collapsed": false,
     "input": [
      "\"\"\"\n",
      "This is docstring. If use sqrt? for example, it prints its docstring.\n",
      "\"\"\"\n",
      "\n",
      "def sqrt2(x, debug=False):\n",
      "    s=1.\n",
      "    kmax=100\n",
      "    tol=1.e-14\n",
      "    for k in range(kmax):\n",
      "        if debug:\n",
      "            print \"Before iteration %s, s=%20.15f\" %(k,s)\n",
      "        # print \"Before iteration %s, s=%20.1e\" %(k,s)\n",
      "        # 20 indicates the number of locations to put this number in\n",
      "        # 15 or 1 indicated how many digits after decimal\n",
      "        # f or e indicate floating or scientific style\n",
      "        s0=s\n",
      "        s=0.5*(s+x/s)\n",
      "        delta_s=s-s0\n",
      "        if abs(delta_s/x)<tol:\n",
      "            break\n",
      "    if debug:\n",
      "        print \"After %s iterations, s=%s\"%(k,s)   \n",
      "x=0.01\n",
      "sqrt2(x)    "
     ],
     "language": "python",
     "metadata": {},
     "outputs": [
      {
       "ename": "NameError",
       "evalue": "name 'wrwe' is not defined",
       "output_type": "pyerr",
       "traceback": [
        "\u001b[0;31m---------------------------------------------------------------------------\u001b[0m\n\u001b[0;31mNameError\u001b[0m                                 Traceback (most recent call last)",
        "\u001b[0;32m<ipython-input-1-585aa67ac739>\u001b[0m in \u001b[0;36m<module>\u001b[0;34m()\u001b[0m\n\u001b[1;32m      1\u001b[0m \u001b[0;31m### This is called docstrin\u001b[0m\u001b[0;34m\u001b[0m\u001b[0;34m\u001b[0m\u001b[0m\n\u001b[0;32m----> 2\u001b[0;31m \u001b[0mwrwe\u001b[0m\u001b[0;34m\u001b[0m\u001b[0m\n\u001b[0m\u001b[1;32m      3\u001b[0m \u001b[0;31m###\u001b[0m\u001b[0;34m\u001b[0m\u001b[0;34m\u001b[0m\u001b[0m\n\u001b[1;32m      4\u001b[0m \u001b[0;34m\u001b[0m\u001b[0m\n\u001b[1;32m      5\u001b[0m \u001b[0;32mdef\u001b[0m \u001b[0msqrt2\u001b[0m\u001b[0;34m(\u001b[0m\u001b[0mx\u001b[0m\u001b[0;34m)\u001b[0m\u001b[0;34m:\u001b[0m\u001b[0;34m\u001b[0m\u001b[0m\n",
        "\u001b[0;31mNameError\u001b[0m: name 'wrwe' is not defined"
       ]
      }
     ],
     "prompt_number": 1
    },
    {
     "cell_type": "code",
     "collapsed": false,
     "input": [],
     "language": "python",
     "metadata": {},
     "outputs": []
    },
    {
     "cell_type": "code",
     "collapsed": false,
     "input": [],
     "language": "python",
     "metadata": {},
     "outputs": []
    },
    {
     "cell_type": "code",
     "collapsed": false,
     "input": [],
     "language": "python",
     "metadata": {},
     "outputs": []
    }
   ],
   "metadata": {}
  }
 ]
}