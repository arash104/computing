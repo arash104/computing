{
 "metadata": {
  "name": "ScientificComputing"
 },
 "nbformat": 3,
 "nbformat_minor": 0,
 "worksheets": [
  {
   "cells": [
    {
     "cell_type": "code",
     "collapsed": false,
     "input": [
      "def sqrt2(x):\n",
      "    s=1.\n",
      "    kmax=100\n",
      "    tol=1.e-14\n",
      "    for k in range(kmax):\n",
      "        print \"Before iteration %s, s=%20.15f\" %(k,s)\n",
      "        # print \"Before iteration %s, s=%20.1e\" %(k,s)\n",
      "        # 20 indicates the number of locations to put this number in\n",
      "        # 15 or 1 indicated how many digits after decimal\n",
      "        # f or e indicate floating or scientific style\n",
      "        s0=s\n",
      "        s=0.5*(s+x/s)\n",
      "        delta_s=s-s0\n",
      "        if abs(delta_s/x)<tol:\n",
      "            break\n",
      "    print \"After %s iterations, s=%s\"%(k,s)   \n",
      "x=0.01\n",
      "sqrt2(x)    "
     ],
     "language": "python",
     "metadata": {},
     "outputs": [
      {
       "output_type": "stream",
       "stream": "stdout",
       "text": [
        "Before iteration 0, s=             1.0e+00\n",
        "Before iteration 1, s=             5.1e-01\n",
        "Before iteration 2, s=             2.6e-01\n",
        "Before iteration 3, s=             1.5e-01\n",
        "Before iteration 4, s=             1.1e-01\n",
        "Before iteration 5, s=             1.0e-01\n",
        "Before iteration 6, s=             1.0e-01\n",
        "Before iteration 7, s=             1.0e-01\n",
        "Before iteration 8, s=             1.0e-01\n",
        "After 8 iterations, s=0.1\n"
       ]
      }
     ],
     "prompt_number": 15
    },
    {
     "cell_type": "code",
     "collapsed": false,
     "input": [],
     "language": "python",
     "metadata": {},
     "outputs": []
    },
    {
     "cell_type": "code",
     "collapsed": false,
     "input": [],
     "language": "python",
     "metadata": {},
     "outputs": []
    },
    {
     "cell_type": "code",
     "collapsed": false,
     "input": [],
     "language": "python",
     "metadata": {},
     "outputs": []
    }
   ],
   "metadata": {}
  }
 ]
}